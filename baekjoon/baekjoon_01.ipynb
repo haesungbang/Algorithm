{
 "cells": [
  {
   "cell_type": "markdown",
   "metadata": {},
   "source": [
    "# baekjoon_01\n",
    ">if문"
   ]
  },
  {
   "cell_type": "markdown",
   "metadata": {},
   "source": [
    "## 두 수 비교하기"
   ]
  },
  {
   "cell_type": "code",
   "execution_count": 2,
   "metadata": {},
   "outputs": [
    {
     "name": "stdout",
     "output_type": "stream",
     "text": [
      "a 숫자를 입력해주세요: 5\n",
      "b 숫자를 입력해주세요: 10\n",
      "<\n"
     ]
    }
   ],
   "source": [
    "a = int(input('a 숫자를 입력해주세요: '))\n",
    "b = int(input('b 숫자를 입력해주세요: '))\n",
    "\n",
    "if a > b:\n",
    "    print('>')\n",
    "elif a == b:\n",
    "    print('==')\n",
    "else:\n",
    "    print('<')"
   ]
  },
  {
   "cell_type": "markdown",
   "metadata": {},
   "source": [
    "## 시험 성적\n",
    ">90 ~ 100은 'A', 80 ~ 89은 'B', 70 ~ 79은 'C', 60 ~ 69은 'D', 나머지는 'F'를 출력하세요."
   ]
  },
  {
   "cell_type": "code",
   "execution_count": 5,
   "metadata": {},
   "outputs": [
    {
     "name": "stdout",
     "output_type": "stream",
     "text": [
      "점수를 입력해주세요.: 100\n",
      "A\n"
     ]
    }
   ],
   "source": [
    "score = int(input('점수를 입력해주세요.: '))\n",
    "\n",
    "if score >= 90:\n",
    "    print('A')\n",
    "elif score >= 80:\n",
    "    print('B')\n",
    "elif score >= 70:\n",
    "    print('C')\n",
    "elif score >= 60:\n",
    "    print('D')\n",
    "else:\n",
    "    print('F')"
   ]
  },
  {
   "cell_type": "markdown",
   "metadata": {},
   "source": [
    "## 윤년\n",
    "> 윤년일 때는 1, 아닐 때는 0을 출력하시오.\n",
    "> 4의 배수이면서 100의 배수가 아닐 때, 또는 400의 배수일 때."
   ]
  },
  {
   "cell_type": "code",
   "execution_count": 9,
   "metadata": {},
   "outputs": [
    {
     "name": "stdout",
     "output_type": "stream",
     "text": [
      "연도를 입력해주세요.: 2012\n",
      "1\n"
     ]
    }
   ],
   "source": [
    "y = int(input('연도를 입력해주세요.: '))\n",
    "\n",
    "if y%400 == 0:\n",
    "    print(1)\n",
    "elif y%100 == 0:\n",
    "    print(0)\n",
    "elif y%4 == 0:\n",
    "    print(1)\n",
    "else:\n",
    "    print(0)"
   ]
  }
 ],
 "metadata": {
  "kernelspec": {
   "display_name": "Python 3",
   "language": "python",
   "name": "python3"
  },
  "language_info": {
   "codemirror_mode": {
    "name": "ipython",
    "version": 3
   },
   "file_extension": ".py",
   "mimetype": "text/x-python",
   "name": "python",
   "nbconvert_exporter": "python",
   "pygments_lexer": "ipython3",
   "version": "3.8.7"
  },
  "toc": {
   "base_numbering": 1,
   "nav_menu": {},
   "number_sections": true,
   "sideBar": true,
   "skip_h1_title": false,
   "title_cell": "Table of Contents",
   "title_sidebar": "Contents",
   "toc_cell": false,
   "toc_position": {},
   "toc_section_display": true,
   "toc_window_display": false
  }
 },
 "nbformat": 4,
 "nbformat_minor": 4
}
